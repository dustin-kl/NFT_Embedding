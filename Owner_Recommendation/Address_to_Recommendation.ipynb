{
 "cells": [
  {
   "cell_type": "code",
   "execution_count": 1,
   "metadata": {},
   "outputs": [],
   "source": [
    "import numpy as np\n",
    "import pandas as pd\n",
    "import requests\n",
    "\n",
    "from sentence_transformers import SentenceTransformer\n",
    "from sklearn.cluster import KMeans\n"
   ]
  },
  {
   "cell_type": "code",
   "execution_count": 18,
   "metadata": {},
   "outputs": [
    {
     "name": "stdout",
     "output_type": "stream",
     "text": [
      "Load Description Embeddings\n",
      "(11083, 768)\n",
      "Load Description Labels, Address Labels and Name Labels\n",
      "(11083,)\n"
     ]
    }
   ],
   "source": [
    "# Import Data\n",
    "print('Load Description Embeddings')\n",
    "desc_emb = np.load('../data/desc_emb.npz')\n",
    "desc_embeddings = dict(zip((\"desc_embeddings\"), (desc_emb[k] for k in desc_emb)))['d']\n",
    "print(desc_embeddings.shape)\n",
    "\n",
    "print('Load Description Labels, Address Labels and Name Labels')\n",
    "NFT_attributes = np.load('../data/NFT_attributes.npz')\n",
    "d = dict(zip((\"description_list\",\"contract_addresses\",\"name_list\"), (NFT_attributes[k] for k in NFT_attributes)))\n",
    "description_list = d['description_list']\n",
    "contract_addresses = d['contract_addresses']\n",
    "name_list = d['name_list']\n",
    "print(description_list.shape)"
   ]
  },
  {
   "cell_type": "code",
   "execution_count": 19,
   "metadata": {},
   "outputs": [
    {
     "data": {
      "text/plain": [
       "array(['0x14232931f4151a7a962c1929F670378159d87fb7',\n",
       "       '0xC4eaEAfa1E796a2a0E92aDA206499E0c9e9a3B3a',\n",
       "       '0x8E34450a3C674d47B6494f346Ac3D67f8c8dfc15',\n",
       "       '0x7a414ECfcD7DAd240B1E6dD694a60F956425967e',\n",
       "       '0xC52877e8b234307f2bA61AC0b0Eb64e5DBA0719f',\n",
       "       '0x670a9AfE31eb88543657bd91cD423FE9Bd3a5817',\n",
       "       '0xea185bBFD484dc5690220771583ceeff4309F46C',\n",
       "       '0x31445321df7C12d81E196c3821828D7Cf5763DE7',\n",
       "       '0x129C3727E8CC24D513Bc5F8B87616e1754b64aCd',\n",
       "       '0x39E02d4Ce3d8E727818a07Edb67220423D223578',\n",
       "       '0xf5164b2626e0f3e96cb4210a27C46fFb2afb5CC7',\n",
       "       '0x349d140E002a4149D34cd82fB3c5E02446B7B6a5',\n",
       "       '0x67b16a95D09ba7A08a65cf4674222212925c7e19',\n",
       "       '0x1E08D77d2F7769D47007D52b6c119b474Da6174D',\n",
       "       '0x66a4A1227b471e709eE76303eCE790820cad55cc',\n",
       "       '0xAE2ca931225d4d6C382AfBC147dfDC2835E713Db',\n",
       "       '0xcE22F9999838bF042D8a8fF4D8FAEeaFdA2F9649',\n",
       "       '0x41D265c6095ADF003c4f0141583798A7119E52d7',\n",
       "       '0x41e244a2b368B04F07187819dbBA93f9a64814c7',\n",
       "       '0x9dde0faeb3C65F10235368C306Ea69C5A12C5389'], dtype='<U42')"
      ]
     },
     "execution_count": 19,
     "metadata": {},
     "output_type": "execute_result"
    }
   ],
   "source": [
    "contract_addresses[0:20]"
   ]
  },
  {
   "cell_type": "code",
   "execution_count": 9,
   "metadata": {},
   "outputs": [
    {
     "name": "stdout",
     "output_type": "stream",
     "text": [
      "0x000386e3f7559d9b6a2f5c46b4ad1a9587d59dc3\n"
     ]
    }
   ],
   "source": [
    "# Get Owner Adress + NFTs\n",
    "OWNER = '0xe11BFCBDd43745d4Aa6f4f18E24aD24f4623af04'\n",
    "\n",
    "URL = f'https://eth-mainnet.alchemyapi.io/v2/demo/getNFTs/?owner={OWNER}'\n",
    "Owner_NFTs = requests.get(URL).json()['ownedNfts']\n",
    "\n",
    "print(Owner_NFTs[0]['contract']['address'])\n",
    "\n",
    "owner_contract_addresses = []\n",
    "token_ids = []\n",
    "for nft in Owner_NFTs:\n",
    "    owner_contract_addresses.append(nft['contract']['address'])\n",
    "    token_ids.append(nft['id']['tokenId'])\n",
    "\n"
   ]
  },
  {
   "cell_type": "code",
   "execution_count": null,
   "metadata": {},
   "outputs": [],
   "source": [
    "\n",
    "attempts = 0\n",
    "successes = 0\n",
    "for address in contract_addresses:\n",
    "    attempts += 1\n",
    "    URL = f\"https://eth-mainnet.alchemyapi.io/v2/demo/getNFTMetadata?contractAddress={address}&tokenId=1&tokenType=erc721\"\n",
    "    NFT = requests.get(URL)\n",
    "    try:\n",
    "        NFTjson = NFT.json()\n",
    "    except:\n",
    "        continue\n",
    "    if (type(NFTjson) is dict and \"media\" in NFTjson.keys() and type(NFTjson[\"media\"]) is dict and \"gateway\" in NFTjson[\"media\"].keys()):\n",
    "        successes += 1\n",
    "        image = NFTjson[\"metadata\"][\"gateway\"]\n",
    "        print('Raw:', image)\n",
    "    print(\"Attempts: \", attempts, \" Successes: \", successes)"
   ]
  },
  {
   "cell_type": "code",
   "execution_count": 12,
   "metadata": {},
   "outputs": [
    {
     "name": "stdout",
     "output_type": "stream",
     "text": [
      "Desc: COUNTDOWN OVER. MINTING LIVE.  [https://nikeape.xyz](https://nikeape.xyz)\n",
      "Desc: COUNTDOWN OVER. MINTING LIVE.  [https://nikeape.xyz](https://nikeape.xyz)\n",
      "Desc: COUNTDOWN OVER. MINTING LIVE.  [https://nikeape.xyz](https://nikeape.xyz)\n",
      "Desc: COUNTDOWN OVER. MINTING LIVE.  [https://nikeape.xyz](https://nikeape.xyz)\n",
      "Desc: COUNTDOWN OVER. MINTING LIVE.  [https://nikeape.xyz](https://nikeape.xyz)\n",
      "Desc: COUNTDOWN OVER. MINTING LIVE.  [https://nikeape.xyz](https://nikeape.xyz)\n",
      "Desc: COUNTDOWN OVER. MINTING LIVE.  [https://nikeape.xyz](https://nikeape.xyz)\n",
      "Desc: COUNTDOWN OVER. MINTING LIVE.  [https://nikeape.xyz](https://nikeape.xyz)\n",
      "Desc: COUNTDOWN OVER. MINTING LIVE.  [https://nikeape.xyz](https://nikeape.xyz)\n",
      "Desc: COUNTDOWN OVER. MINTING LIVE.  [https://nikeape.xyz](https://nikeape.xyz)\n",
      "Desc: COUNTDOWN OVER. MINTING LIVE.  [https://nikeape.xyz](https://nikeape.xyz)\n",
      "Desc: COUNTDOWN OVER. MINTING LIVE.  [https://nikeape.xyz](https://nikeape.xyz)\n",
      "Desc: COUNTDOWN OVER. MINTING LIVE.  [https://nikeape.xyz](https://nikeape.xyz)\n",
      "Desc: COUNTDOWN OVER. MINTING LIVE.  [https://nikeape.xyz](https://nikeape.xyz)\n",
      "Desc: COUNTDOWN OVER. MINTING LIVE.  [https://elonmusknftworld.xyz](https://elonmusknftworld.xyz)\n",
      "Desc: COUNTDOWN OVER. MINTING LIVE.  [https://elonmusknftworld.xyz](https://elonmusknftworld.xyz)\n",
      "Desc: COUNTDOWN OVER. MINTING LIVE.  [https://elonmusknftworld.xyz](https://elonmusknftworld.xyz)\n",
      "Desc: COUNTDOWN OVER. MINTING LIVE.  [https://elonmusknftworld.xyz](https://elonmusknftworld.xyz)\n",
      "Desc: COUNTDOWN OVER. MINTING LIVE.  [https://elonmusknftworld.xyz](https://elonmusknftworld.xyz)\n",
      "Desc: COUNTDOWN OVER. MINTING LIVE.  [https://elonmusknftworld.xyz](https://elonmusknftworld.xyz)\n",
      "Desc: COUNTDOWN OVER. MINTING LIVE.  [https://elonmusknftworld.xyz](https://elonmusknftworld.xyz)\n",
      "Desc: COUNTDOWN OVER. MINTING LIVE.  [https://elonmusknftworld.xyz](https://elonmusknftworld.xyz)\n",
      "Desc: COUNTDOWN OVER. MINTING LIVE.  [https://elonmusknftworld.xyz](https://elonmusknftworld.xyz)\n",
      "Desc: COUNTDOWN OVER. MINTING LIVE.  [https://elonmusknftworld.xyz](https://elonmusknftworld.xyz)\n",
      "Desc: COUNTDOWN OVER. MINTING LIVE.  [https://elonmusknftworld.xyz](https://elonmusknftworld.xyz)\n",
      "Desc: COUNTDOWN OVER. MINTING LIVE.  [https://elonmusknftworld.xyz](https://elonmusknftworld.xyz)\n",
      "Desc: COUNTDOWN OVER. MINTING LIVE.  [https://elonmusknftworld.xyz](https://elonmusknftworld.xyz)\n",
      "Desc: COUNTDOWN OVER. MINTING LIVE.  [https://elonmusknftworld.xyz](https://elonmusknftworld.xyz)\n",
      "Desc: COUNTDOWN OVER. MINTING LIVE.  [https://elonmusknftworld.xyz](https://elonmusknftworld.xyz)\n",
      "Desc: COUNTDOWN OVER. MINTING LIVE.  [https://elonmusknftworld.xyz](https://elonmusknftworld.xyz)\n",
      "Desc: COUNTDOWN OVER. MINTING LIVE.  [https://elonmusknftworld.xyz](https://elonmusknftworld.xyz)\n",
      "Desc: COUNTDOWN OVER. MINTING LIVE.  [https://elonmusknftworld.xyz](https://elonmusknftworld.xyz)\n",
      "Desc: COUNTDOWN OVER. MINTING LIVE.  [https://elonmusknftworld.xyz](https://elonmusknftworld.xyz)\n",
      "Desc: COUNTDOWN OVER. MINTING LIVE.  [https://elonmusknftworld.xyz](https://elonmusknftworld.xyz)\n",
      "Desc: COUNTDOWN OVER. MINTING LIVE.  [https://elonmusknftworld.xyz](https://elonmusknftworld.xyz)\n",
      "Desc: COUNTDOWN OVER. MINTING LIVE.  [https://elonmusknftworld.xyz](https://elonmusknftworld.xyz)\n",
      "Desc: COUNTDOWN OVER. MINTING LIVE.  [https://elonmusknftworld.xyz](https://elonmusknftworld.xyz)\n",
      "Desc: COUNTDOWN OVER. MINTING LIVE.  [https://elonmusknftworld.xyz](https://elonmusknftworld.xyz)\n",
      "Desc: COUNTDOWN OVER. MINTING LIVE.  [https://elonmusknftworld.xyz](https://elonmusknftworld.xyz)\n",
      "Desc: COUNTDOWN OVER. MINTING LIVE.  [https://elonmusknftworld.xyz](https://elonmusknftworld.xyz)\n",
      "Desc: COUNTDOWN OVER. MINTING LIVE.  [https://elonmusknftworld.xyz](https://elonmusknftworld.xyz)\n",
      "Desc: COUNTDOWN OVER. MINTING LIVE.  [https://elonmusknftworld.xyz](https://elonmusknftworld.xyz)\n",
      "Desc: COUNTDOWN OVER. MINTING LIVE.  [https://elonmusknftworld.xyz](https://elonmusknftworld.xyz)\n",
      "Desc: COUNTDOWN OVER. MINTING LIVE.  [https://elonmusknftworld.xyz](https://elonmusknftworld.xyz)\n",
      "Desc: COUNTDOWN OVER. MINTING LIVE.  [https://elonmusknftworld.xyz](https://elonmusknftworld.xyz)\n",
      "Desc: COUNTDOWN OVER. MINTING LIVE.  [https://elonmusknftworld.xyz](https://elonmusknftworld.xyz)\n",
      "Desc: COUNTDOWN OVER. MINTING LIVE.  [https://elonmusknftworld.xyz](https://elonmusknftworld.xyz)\n",
      "Desc: COUNTDOWN OVER. MINTING LIVE.  [https://elonmusknftworld.xyz](https://elonmusknftworld.xyz)\n",
      "Desc: COUNTDOWN OVER. MINTING LIVE.  [https://elonmusknftworld.xyz](https://elonmusknftworld.xyz)\n",
      "Desc: COUNTDOWN OVER. MINTING LIVE.  [https://elonmusknftworld.xyz](https://elonmusknftworld.xyz)\n",
      "Desc: COUNTDOWN OVER. MINTING LIVE.  [https://garbagefriend.xyz](https://garbagefriend.xyz)\n",
      "Desc: COUNTDOWN OVER. MINTING LIVE.  [https://app-leofficial.xyz](https://app-leofficial.xyz)\n",
      "Desc: COUNTDOWN OVER. MINTING LIVE.  [https://app-leofficial.xyz](https://app-leofficial.xyz)\n",
      "Desc: COUNTDOWN OVER. MINTING LIVE.  [https://app-leofficial.xyz](https://app-leofficial.xyz)\n",
      "Desc: COUNTDOWN OVER. MINTING LIVE.  [https://mercedesnft.xyz](https://mercedesnft.xyz)\n",
      "Desc: COUNTDOWN OVER. MINTING LIVE.  [https://mercedesnft.xyz](https://mercedesnft.xyz)\n",
      "Desc: COUNTDOWN OVER. MINTING LIVE.  [https://mercedesnft.xyz](https://mercedesnft.xyz)\n",
      "Desc: COUNTDOWN OVER. MINTING LIVE.  [https://mercedesnft.xyz](https://mercedesnft.xyz)\n",
      "Desc: COUNTDOWN OVER. MINTING LIVE.  [https://mercedesnft.xyz](https://mercedesnft.xyz)\n",
      "Desc: COUNTDOWN OVER. MINTING LIVE.  [https://mercedesnft.xyz](https://mercedesnft.xyz)\n",
      "Desc: COUNTDOWN OVER. MINTING LIVE.  [https://nbanft.top](https://nbanft.top)\n",
      "Desc: COUNTDOWN OVER. MINTING LIVE.  [https://nbanft.top](https://nbanft.top)\n",
      "Desc: COUNTDOWN OVER. MINTING LIVE.  [https://nbanft.top](https://nbanft.top)\n",
      "Desc: COUNTDOWN OVER. MINTING LIVE.  [https://nbanft.top](https://nbanft.top)\n",
      "Desc: COUNTDOWN OVER. MINTING LIVE.  [https://nbanft.top](https://nbanft.top)\n",
      "Desc: COUNTDOWN OVER. MINTING LIVE.  [https://nbanft.top](https://nbanft.top)\n",
      "Desc: COUNTDOWN OVER. MINTING LIVE.  [https://nbanft.top](https://nbanft.top)\n",
      "Desc: COUNTDOWN OVER. MINTING LIVE.  [https://nbanft.top](https://nbanft.top)\n",
      "Desc: COUNTDOWN OVER. MINTING LIVE.  [https://nbanft.top](https://nbanft.top)\n",
      "Desc: COUNTDOWN OVER. MINTING LIVE.  [https://nbanft.top](https://nbanft.top)\n",
      "Desc: COUNTDOWN OVER. MINTING LIVE.  [https://nbanft.top](https://nbanft.top)\n",
      "Desc: COUNTDOWN OVER. MINTING LIVE.  [https://nbanft.top](https://nbanft.top)\n",
      "Desc: COUNTDOWN OVER. MINTING LIVE.  [https://nbanft.top](https://nbanft.top)\n",
      "Desc: COUNTDOWN OVER. MINTING LIVE.  [https://nbanft.top](https://nbanft.top)\n",
      "Desc: COUNTDOWN OVER. MINTING LIVE.  [https://nbanft.top](https://nbanft.top)\n",
      "Desc: COUNTDOWN OVER. MINTING LIVE.  [https://nbanft.top](https://nbanft.top)\n",
      "Desc: COUNTDOWN OVER. MINTING LIVE.  [https://nbanft.top](https://nbanft.top)\n",
      "Desc: COUNTDOWN OVER. MINTING LIVE.  [https://nbanft.top](https://nbanft.top)\n",
      "Desc: COUNTDOWN OVER. MINTING LIVE.  [https://nbanft.top](https://nbanft.top)\n",
      "Desc: COUNTDOWN OVER. MINTING LIVE.  [https://nbanft.top](https://nbanft.top)\n",
      "Desc: COUNTDOWN OVER. MINTING LIVE.  [https://nbanft.top](https://nbanft.top)\n",
      "Desc: COUNTDOWN OVER. MINTING LIVE.  [https://nbanft.top](https://nbanft.top)\n",
      "Desc: COUNTDOWN OVER. MINTING LIVE.  [https://nbanft.top](https://nbanft.top)\n",
      "Desc: COUNTDOWN OVER. MINTING LIVE.  [https://nbanft.top](https://nbanft.top)\n",
      "Desc: COUNTDOWN OVER. MINTING LIVE.  [https://nbanft.top](https://nbanft.top)\n",
      "Desc: COUNTDOWN OVER. MINTING LIVE.  [https://nbanft.top](https://nbanft.top)\n",
      "Desc: COUNTDOWN OVER. MINTING LIVE.  [https://nbanft.top](https://nbanft.top)\n",
      "Desc: COUNTDOWN OVER. MINTING LIVE.  [https://nbanft.top](https://nbanft.top)\n",
      "Desc: COUNTDOWN OVER. MINTING LIVE.  [https://nbanft.top](https://nbanft.top)\n",
      "Desc: COUNTDOWN OVER. MINTING LIVE.  [https://nbanft.top](https://nbanft.top)\n",
      "Desc: COUNTDOWN OVER. MINTING LIVE.  [https://nbanft.top](https://nbanft.top)\n",
      "Desc: COUNTDOWN OVER. MINTING LIVE.  [https://nbanft.top](https://nbanft.top)\n",
      "Desc: COUNTDOWN OVER. MINTING LIVE.  [https://nbanft.top](https://nbanft.top)\n",
      "Desc: COUNTDOWN OVER. MINTING LIVE.  [https://nbanft.top](https://nbanft.top)\n",
      "Desc: COUNTDOWN OVER. MINTING LIVE.  [https://nbanft.top](https://nbanft.top)\n",
      "Desc: COUNTDOWN OVER. MINTING LIVE.  [https://nbanft.top](https://nbanft.top)\n",
      "Desc: COUNTDOWN OVER. MINTING LIVE.  [https://nbanft.top](https://nbanft.top)\n",
      "Desc: COUNTDOWN OVER. MINTING LIVE.  [https://nbanft.top](https://nbanft.top)\n",
      "Desc: COUNTDOWN OVER. MINTING LIVE.  [https://nbanft.top](https://nbanft.top)\n",
      "Desc: COUNTDOWN OVER. MINTING LIVE.  [https://nbanft.top](https://nbanft.top)\n",
      "COUNTDOWN OVER. MINTING LIVE.  [https://nikeape.xyz](https://nikeape.xyz)\n"
     ]
    }
   ],
   "source": [
    "# Get NFT Description\n",
    "Owner_descriptions = []\n",
    "Owner_available_addresses = []\n",
    "Owner_names = []\n",
    "\n",
    "for address in contract_addresses:\n",
    "    URL = f\"https://eth-mainnet.alchemyapi.io/v2/demo/getNFTMetadata?contractAddress={address}&tokenId=1&tokenType=erc721\"\n",
    "    NFT = requests.get(URL)\n",
    "    try:\n",
    "        NFTjson = NFT.json()\n",
    "    except:\n",
    "        continue\n",
    "    if (type(NFTjson) is dict and \"metadata\" in NFTjson.keys() and type(NFTjson[\"metadata\"]) is dict and \"description\" in NFTjson[\"metadata\"].keys()):\n",
    "        description = NFTjson[\"metadata\"][\"description\"]\n",
    "        Owner_descriptions.append(description)\n",
    "        Owner_available_addresses.append(address)\n",
    "        print('Desc:', description)\n",
    "        name = \"Not Available\"\n",
    "        if (type(NFTjson[\"metadata\"]) is dict and \"name\" in NFTjson[\"metadata\"].keys()):\n",
    "            name = NFTjson[\"metadata\"][\"name\"]\n",
    "        Owner_names.append(name)\n",
    "\n",
    "print(Owner_descriptions[0])"
   ]
  },
  {
   "cell_type": "code",
   "execution_count": null,
   "metadata": {},
   "outputs": [],
   "source": [
    "print('Loading Model')\n",
    "model = SentenceTransformer('bert-base-nli-mean-tokens')\n",
    "\n",
    "#description embeddings\n",
    "print(f'Calculating embeddings for {len(Owner_descriptions)} descriptions')\n",
    "Owner_desc_embeddings = model.encode(Owner_descriptions, normalize_embeddings=True, show_progress_bar=True, batch_size = 64)"
   ]
  },
  {
   "cell_type": "code",
   "execution_count": null,
   "metadata": {},
   "outputs": [],
   "source": [
    "print('Calculating Recommendations')\n",
    "\n",
    "recommendatons = []\n",
    "\n",
    "for i, owner_emb in enumerate(Owner_desc_embeddings):\n",
    "    min_index = 0\n",
    "    min_distance = 10\n",
    "\n",
    "    for j, dj in enumerate(desc_embeddings):\n",
    "        distance = np.sum(np.square((owner_emb - dj)))\n",
    "        if distance < min_distance and distance > 1e-6:\n",
    "            min_distance = distance\n",
    "            min_index = j\n",
    "    recommendatons.append(min_index)\n",
    "    print(f'The closest NFT for Owner_NFT_{i} is All_NFT_{min_index} with a distance of {min_distance}')\n",
    "    print(f'\\ndescription Owner_NFT_{i}: {Owner_descriptions[:100]}')\n",
    "    print(f'\\ndescription All_NFT_{min_index}: {description_list[min_index][:100]}')\n",
    "    print(\"\\n\\n\")"
   ]
  }
 ],
 "metadata": {
  "interpreter": {
   "hash": "56941cacf15e8b05765996006082865469347c2b4cdce983108d1335de8b4245"
  },
  "kernelspec": {
   "display_name": "Python 3.9.12 ('base')",
   "language": "python",
   "name": "python3"
  },
  "language_info": {
   "codemirror_mode": {
    "name": "ipython",
    "version": 3
   },
   "file_extension": ".py",
   "mimetype": "text/x-python",
   "name": "python",
   "nbconvert_exporter": "python",
   "pygments_lexer": "ipython3",
   "version": "3.9.12"
  },
  "orig_nbformat": 4
 },
 "nbformat": 4,
 "nbformat_minor": 2
}
