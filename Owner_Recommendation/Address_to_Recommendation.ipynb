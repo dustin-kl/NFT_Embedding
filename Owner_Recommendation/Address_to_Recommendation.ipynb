{
 "cells": [
  {
   "cell_type": "code",
   "execution_count": 1,
   "metadata": {},
   "outputs": [],
   "source": [
    "import numpy as np\n",
    "import pandas as pd\n",
    "import requests\n",
    "\n",
    "from sentence_transformers import SentenceTransformer\n",
    "from sklearn.cluster import KMeans"
   ]
  },
  {
   "cell_type": "code",
   "execution_count": 42,
   "metadata": {},
   "outputs": [
    {
     "name": "stdout",
     "output_type": "stream",
     "text": [
      "Load Description Embeddings\n",
      "(11083, 768)\n",
      "Load Description Labels, Address Labels and Name Labels\n",
      "(11083,)\n"
     ]
    }
   ],
   "source": [
    "# Import Data\n",
    "print('Load Description Embeddings')\n",
    "desc_emb = np.load('../data/desc_emb.npz')\n",
    "traindata_desc_embeddings = dict(zip((\"desc_embeddings\"), (desc_emb[k] for k in desc_emb)))['d']\n",
    "print(traindata_desc_embeddings.shape)\n",
    "\n",
    "print('Load Description Labels, Address Labels and Name Labels')\n",
    "NFT_attributes = np.load('../data/NFT_attributes.npz')\n",
    "d = dict(zip((\"description_list\",\"contract_addresses\",\"name_list\"), (NFT_attributes[k] for k in NFT_attributes)))\n",
    "description_list = d['description_list']\n",
    "contract_addresses = d['contract_addresses']\n",
    "name_list = d['name_list']\n",
    "print(description_list.shape)\n",
    "\n",
    "train_desc_address = list(zip(contract_addresses, traindata_desc_embeddings, description_list))\n",
    "#print(train_desc_address[0])"
   ]
  },
  {
   "cell_type": "code",
   "execution_count": 31,
   "metadata": {},
   "outputs": [],
   "source": [
    "# Here we store the address of the person logging in with MetaMask \n",
    "OWNER = '0xe11BFCBDd43745d4Aa6f4f18E24aD24f4623af04'\n",
    "\n",
    "URL = f'https://eth-mainnet.alchemyapi.io/v2/demo/getNFTs/?owner={OWNER}'\n",
    "Owner_NFTs = requests.get(URL).json()['ownedNfts']\n",
    "\n",
    "#print(Owner_NFTs[0]['contract']['address'])\n",
    "\n",
    "#Format is (Contractaddress, tokenId)\n",
    "owner_nfts = []\n",
    "\n",
    "for nft in Owner_NFTs:\n",
    "    nft_contract_address = nft['contract']['address'] \n",
    "    token_id = nft['id']['tokenId']\n",
    "    owner_nfts.append((nft_contract_address, token_id))"
   ]
  },
  {
   "cell_type": "code",
   "execution_count": 32,
   "metadata": {},
   "outputs": [
    {
     "name": "stdout",
     "output_type": "stream",
     "text": [
      "('0x000386e3f7559d9b6a2f5c46b4ad1a9587d59dc3', '0x0000000000000000000000000000000000000000000000000000000000000003', 'A collection of 8,888 colorful undead Apefellaz looking for a new home. Each Apefellaz is jammed packed with exclusive utility, alpha and perks such as our future Metaverse development. Apefellaz is made with love by proud Deadfellaz holders. It is not affiliated with any other projects and we are continually inspired by the works of these amazing collections. All about spreading happiness, positivity, and good vibes.. come join the family!')\n"
     ]
    }
   ],
   "source": [
    "# Get Description of All NFTs of Owner\n",
    "owner_nfts_withDesc = []\n",
    "only_descriptions = []\n",
    "\n",
    "for nft in owner_nfts:\n",
    "    nft_contract_address = nft[0]\n",
    "    token_id = nft[1]\n",
    "    URL = f\"https://eth-mainnet.alchemyapi.io/v2/demo/getNFTMetadata?contractAddress={address}&tokenId={token_id}\"\n",
    "    NFT = requests.get(URL)\n",
    "    try:\n",
    "        NFTjson = NFT.json()\n",
    "    except:\n",
    "        continue\n",
    "    if (type(NFTjson) is dict and \"metadata\" in NFTjson.keys() and type(NFTjson[\"metadata\"]) is dict and \"description\" in NFTjson[\"metadata\"].keys()):\n",
    "        description = NFTjson[\"metadata\"][\"description\"]\n",
    "        only_descriptions.append(description)\n",
    "        owner_nfts_withDesc.append((nft_contract_address, token_id, description))\n",
    "        #print('Desc:', description\n",
    "\n",
    "print(owner_nfts_withDesc[0])"
   ]
  },
  {
   "cell_type": "code",
   "execution_count": 44,
   "metadata": {},
   "outputs": [
    {
     "data": {
      "application/vnd.jupyter.widget-view+json": {
       "model_id": "0c91c23d7de54efeb27dcee422a7b298",
       "version_major": 2,
       "version_minor": 0
      },
      "text/plain": [
       "Batches:   0%|          | 0/1 [00:00<?, ?it/s]"
      ]
     },
     "metadata": {},
     "output_type": "display_data"
    },
    {
     "name": "stdout",
     "output_type": "stream",
     "text": [
      "[[ 0.01741892  0.03565018  0.05280961 ... -0.01533552  0.03399569\n",
      "   0.05235408]\n",
      " [ 0.00971485  0.00795302  0.05625482 ... -0.01624798 -0.01517915\n",
      "   0.03131065]\n",
      " [-0.03011487  0.07835224  0.03461941 ...  0.0354766   0.0146795\n",
      "  -0.00573328]]\n",
      "Input NFT Description:  ('0x000386e3f7559d9b6a2f5c46b4ad1a9587d59dc3', '0x0000000000000000000000000000000000000000000000000000000000000003', 'A collection of 8,888 colorful undead Apefellaz looking for a new home. Each Apefellaz is jammed packed with exclusive utility, alpha and perks such as our future Metaverse development. Apefellaz is made with love by proud Deadfellaz holders. It is not affiliated with any other projects and we are continually inspired by the works of these amazing collections. All about spreading happiness, positivity, and good vibes.. come join the family!')\n",
      "Output NFT Descriptions for top 5 matches ('**0x64931f06d3266049bf0195346973762e6996d764** &NewLine;&NewLine; [SVG](http://api.tiles.art/svg/64931f06d3266049bf0195346973762e6996d764) &NewLine;&NewLine; [PNG](http://api.tiles.art/png/64931f06d3266049bf0195346973762e6996d764?scale=5)', 'Generated from seed 0xb10e2d527612073b26eecdfd717e6a320cf44b4afac2b0732d9fcbe2b7fa0cf6', 'CYAN NFT\\nUnique ID:\\nKkosO-00000-0000000000001\\nSerial:\\nkRtpuNMWhPfRdfLQsl', '1X NFT = 1X Share of the Asset Pie.\\n\\nhttps://zapper.fi/account/0x49c8a16b07c758d82a56bd2b6a3daecc352c4470?tab=nft\\n\\nAssets stored in Multi Sig Safe:  \\n0x5ADaa09174969F8a776338935e335Cf4cd131baA', '[Image (3000x3000)](https://gateway.pinata.cloud/ipfs/QmPLT5tgQuDjLWUV2rhcciojh3TUR2x9xHdLEFXUbbcoPc/1.png)\\n\\n[PFP ready image (1350x1350)](https://gateway.pinata.cloud/ipfs/QmaZJMPkXGuuoqsKRNvGEackDU4jbKy4JunVHPAL6G1npS/1.png)\\n\\n[Transparent image (3000x3000)](https://gateway.pinata.cloud/ipfs/QmfXsJfCFH8U9zeRpWrDoii6iEFH4YSjS3dZjDRNqHTNjU/1.png)\\n\\n[Transparent PFP ready image (1350x1350)](https://gateway.pinata.cloud/ipfs/QmSxwrh9spX3crAMVqwCR3C1YzYjaYqX1v2pznh8iuks6p/1.png)\\n')\n"
     ]
    }
   ],
   "source": [
    "# Option 1: User then chooses a specific NFT and we provide X (e.g. X = 5) recommendations\n",
    "\n",
    "X = 5\n",
    "\n",
    "#Set dependent on User Input\n",
    "owner_nfts_withDesc_index = 0\n",
    "nft_description = owner_nfts_withDesc[0]\n",
    "\n",
    "# Later on here we will just load out finetuned model from above\n",
    "model = SentenceTransformer('bert-base-nli-mean-tokens')\n",
    "\n",
    "#description embeddings\n",
    "nft_description_embedding = model.encode(nft_description, normalize_embeddings=True, show_progress_bar=True, batch_size = 64)\n",
    "\n",
    "print(nft_description_embedding)\n",
    "\n",
    "#now a quadruple of distance, embedded desc, desc and address but later will also have id\n",
    "recommendations = []\n",
    "total_recommendations = 0\n",
    "\n",
    "for i, j in enumerate(train_desc_address):\n",
    "    train_address = j[0]\n",
    "    train_description_embedding = j[1]\n",
    "    train_description = j[2]\n",
    "\n",
    "    distance = np.sum(np.square((train_description_embedding - nft_description_embedding)))\n",
    "\n",
    "    if (i < X):\n",
    "        recommendations.append((distance, train_description_embedding, train_description, train_address))\n",
    "        recommendations.sort(key = lambda x: x[0])\n",
    "    else:\n",
    "        highest_distance = recommendations[X-1][0]\n",
    "        if (distance < highest_distance):\n",
    "            recommendations[X-1] = (distance, train_description_embedding, train_description, train_address)\n",
    "            recommendations.sort(key = lambda x: x[0])\n",
    "\n",
    "\n",
    "print(\"Input NFT Description: \", nft_description)\n",
    "print(f\"Output NFT Descriptions for top {X} matches\", list(zip(*recommendations))[2])"
   ]
  },
  {
   "cell_type": "code",
   "execution_count": null,
   "metadata": {},
   "outputs": [],
   "source": [
    "# Option 2: For all the NFTs the User have we find the X (e.g. X = 5) NFTs that are closest to any NFTs he already has\n",
    "\n",
    "\n",
    "\n",
    "print('Loading Model')\n",
    "model = SentenceTransformer('bert-base-nli-mean-tokens')\n",
    "\n",
    "#description embeddings\n",
    "print(f'Calculating embeddings for {len(Owner_descriptions)} descriptions')\n",
    "Owner_desc_embeddings = model.encode(Owner_descriptions, normalize_embeddings=True, show_progress_bar=True, batch_size = 64)"
   ]
  },
  {
   "cell_type": "code",
   "execution_count": null,
   "metadata": {},
   "outputs": [],
   "source": [
    "print('Calculating Recommendations')\n",
    "\n",
    "recommendatons = []\n",
    "\n",
    "for i, owner_emb in enumerate(Owner_desc_embeddings):\n",
    "    min_index = 0\n",
    "    min_distance = 10\n",
    "\n",
    "    for j, dj in enumerate(desc_embeddings):\n",
    "        distance = np.sum(np.square((owner_emb - dj)))\n",
    "        if distance < min_distance and distance > 1e-6:\n",
    "            min_distance = distance\n",
    "            min_index = j\n",
    "    recommendatons.append(min_index)\n",
    "    print(f'The closest NFT for Owner_NFT_{i} is All_NFT_{min_index} with a distance of {min_distance}')\n",
    "    print(f'\\ndescription Owner_NFT_{i}: {Owner_descriptions[:100]}')\n",
    "    print(f'\\ndescription All_NFT_{min_index}: {description_list[min_index][:100]}')\n",
    "    print(\"\\n\\n\")"
   ]
  }
 ],
 "metadata": {
  "interpreter": {
   "hash": "56941cacf15e8b05765996006082865469347c2b4cdce983108d1335de8b4245"
  },
  "kernelspec": {
   "display_name": "Python 3.9.12 ('base')",
   "language": "python",
   "name": "python3"
  },
  "language_info": {
   "codemirror_mode": {
    "name": "ipython",
    "version": 3
   },
   "file_extension": ".py",
   "mimetype": "text/x-python",
   "name": "python",
   "nbconvert_exporter": "python",
   "pygments_lexer": "ipython3",
   "version": "3.9.12"
  },
  "orig_nbformat": 4
 },
 "nbformat": 4,
 "nbformat_minor": 2
}
