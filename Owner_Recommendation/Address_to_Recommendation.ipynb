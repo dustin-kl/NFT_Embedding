{
 "cells": [
  {
   "cell_type": "code",
   "execution_count": 9,
   "metadata": {},
   "outputs": [],
   "source": [
    "import numpy as np\n",
    "import pandas as pd\n",
    "import requests\n",
    "\n",
    "from sentence_transformers import SentenceTransformer\n",
    "from sklearn.cluster import KMeans\n"
   ]
  },
  {
   "cell_type": "code",
   "execution_count": 5,
   "metadata": {},
   "outputs": [
    {
     "name": "stdout",
     "output_type": "stream",
     "text": [
      "Load Description Embeddings\n",
      "(11083, 768)\n",
      "Load Description Labels, Address Labels and Name Labels\n",
      "(11083,)\n"
     ]
    }
   ],
   "source": [
    "# Import Data\n",
    "print('Load Description Embeddings')\n",
    "desc_emb = np.load('../data/desc_emb.npz')\n",
    "desc_embeddings = dict(zip((\"desc_embeddings\"), (desc_emb[k] for k in desc_emb)))['d']\n",
    "print(desc_embeddings.shape)\n",
    "\n",
    "print('Load Description Labels, Address Labels and Name Labels')\n",
    "NFT_attributes = np.load('../data/NFT_attributes.npz')\n",
    "d = dict(zip((\"description_list\",\"contract_addresses\",\"name_list\"), (NFT_attributes[k] for k in NFT_attributes)))\n",
    "description_list = d['description_list']\n",
    "contract_addresses = d['contract_addresses']\n",
    "name_list = d['name_list']\n",
    "print(description_list.shape)"
   ]
  },
  {
   "cell_type": "code",
   "execution_count": 42,
   "metadata": {},
   "outputs": [
    {
     "name": "stdout",
     "output_type": "stream",
     "text": [
      "0x60b74dea92950b9f6564b2c5a7d20482f20f6dc1\n"
     ]
    }
   ],
   "source": [
    "# Get Owner Adress + NFTs\n",
    "OWNER = '0x2dCaf47e340b3a5C0f1779111697C39696E3Dc21'\n",
    "\n",
    "URL = f'https://eth-mainnet.alchemyapi.io/v2/demo/getNFTs/?owner={OWNER}'\n",
    "Owner_NFTs = requests.get(URL).json()['ownedNfts']\n",
    "\n",
    "print(Owner_NFTs[0]['contract']['address'])\n",
    "contract_addresses = []\n",
    "token_ids = []\n",
    "for nft in Owner_NFTs:\n",
    "    contract_addresses.append(nft['contract']['address'])\n",
    "    token_ids.append(nft['id']['tokenId'])\n",
    "\n"
   ]
  },
  {
   "cell_type": "code",
   "execution_count": 40,
   "metadata": {},
   "outputs": [
    {
     "name": "stdout",
     "output_type": "stream",
     "text": [
      "This is what we want\n",
      "This is what we want\n",
      "Mint here https://ecotars.art Ecotars 🤖 a 3D animated NFT collection that cares about the environment ♻️🌎 Founder & creative director: @RKropachek🧑‍💻 \n"
     ]
    }
   ],
   "source": [
    "# Get NFT Description\n",
    "Owner_descriptions = []\n",
    "Owner_available_addresses = []\n",
    "Owner_names = []\n",
    "\n",
    "for address in contract_addresses:\n",
    "    URL = f\"https://eth-mainnet.alchemyapi.io/v2/demo/getNFTMetadata?contractAddress={address}&tokenId=1&tokenType=erc721\"\n",
    "    NFT = requests.get(URL)\n",
    "    try:\n",
    "        NFTjson = NFT.json()\n",
    "    except:\n",
    "        continue\n",
    "    if (type(NFTjson) is dict and \"metadata\" in NFTjson.keys() and type(NFTjson[\"metadata\"]) is dict and \"description\" in NFTjson[\"metadata\"].keys()):\n",
    "        print('This is what we want')\n",
    "        external_url = NFTjson[\"metadata\"][\"description\"]\n",
    "        Owner_descriptions.append(external_url)\n",
    "        Owner_available_addresses.append(address)\n",
    "        name = \"Not Available\"\n",
    "        if (type(NFTjson[\"metadata\"]) is dict and \"title\" in NFTjson[\"metadata\"].keys()):\n",
    "            name = NFTjson[\"metadata\"][\"title\"]\n",
    "        Owner_names.append(name)\n",
    "\n",
    "print(Owner_descriptions[0])"
   ]
  },
  {
   "cell_type": "code",
   "execution_count": null,
   "metadata": {},
   "outputs": [],
   "source": [
    "print('Loading Model')\n",
    "model = SentenceTransformer('bert-base-nli-mean-tokens')\n",
    "\n",
    "#description embeddings\n",
    "print(f'Calculating embeddings for {len(Owner_descriptions)} descriptions')\n",
    "Owner_desc_embeddings = model.encode(Owner_descriptions, normalize_embeddings=True, show_progress_bar=True, batch_size = 64)"
   ]
  },
  {
   "cell_type": "code",
   "execution_count": null,
   "metadata": {},
   "outputs": [],
   "source": []
  }
 ],
 "metadata": {
  "interpreter": {
   "hash": "b2522a7ac3b60f852504f7e2e80aa0b42867087115d2f979bf28cdf9a03dea8d"
  },
  "kernelspec": {
   "display_name": "Python 3.9.12 ('web3')",
   "language": "python",
   "name": "python3"
  },
  "language_info": {
   "codemirror_mode": {
    "name": "ipython",
    "version": 3
   },
   "file_extension": ".py",
   "mimetype": "text/x-python",
   "name": "python",
   "nbconvert_exporter": "python",
   "pygments_lexer": "ipython3",
   "version": "3.9.12"
  },
  "orig_nbformat": 4
 },
 "nbformat": 4,
 "nbformat_minor": 2
}
